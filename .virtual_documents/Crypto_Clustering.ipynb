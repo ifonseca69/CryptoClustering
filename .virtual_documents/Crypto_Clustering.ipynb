# Import required libraries and dependencies
import pandas as pd
from sklearn.cluster import KMeans
from sklearn.decomposition import PCA
from sklearn.preprocessing import StandardScaler


# Load the data into a Pandas DataFrame and make the index the "coin_id" column.
market_data_df = pd.read_csv("Resources/crypto_market_data.csv", index_col="coin_id")

# Display sample data
market_data_df.head(10)


# Generate summary statistics
market_data_df.describe()





# Use the `StandardScaler()` module from scikit-learn to normalize the data from the CSV file

columns = ["price_change_percentage_24h", "price_change_percentage_7d",\
            "price_change_percentage_14d","price_change_percentage_30d",\
            "price_change_percentage_60d","price_change_percentage_200d",\
            "price_change_percentage_1y"]
scaled_data = StandardScaler().fit_transform(market_data_df[columns])


# Create a DataFrame with the scaled data

market_crypto_scaled_df = pd.DataFrame(scaled_data,columns=columns)

# Copy the crypto names from the original data

market_crypto_scaled_df['coin_id'] = market_data_df.index
# Set the coinid column as index

market_crypto_scaled_df = market_crypto_scaled_df.set_index('coin_id')

# Display sample data

market_crypto_scaled_df.head()





# Create a list with the number of k-values to try
# Use a range from 1 to 11
k = list(range(1, 11))
# Create an empty list to store the inertia values
inertia = []

# Create a for loop to compute the inertia with each possible value of k
# Inside the loop:
# 1. Create a KMeans model using the loop counter for the n_clusters
# 2. Fit the model to the data using the scaled DataFrame
# 3. Append the model.inertia_ to the inertia list

for i in k:
    model = KMeans(n_clusters=i, n_init='auto', random_state=1)
    model.fit(market_crypto_scaled_df)
    inertia.append(model.inertia_)
# Create a dictionary with the data to plot the Elbow curve

elbow_data = {
    "k": k,
    "inertia": inertia
}

# Create a DataFrame with the data to plot the Elbow curve

df_elbow = pd.DataFrame(elbow_data)

# Display the DataFrame
df_elbow


# Plot a line chart with all the inertia values computed with 
# the different values of k to visually identify the optimal value for k.
import plotly.express as px

# Create the Elbow curve plot using Plotly
fig = px.line(df_elbow, x='k', y='inertia', markers=True, title='Elbow Method For Optimal k')
fig.update_layout(
    xaxis_title='Number of clusters (k)',
    yaxis_title='Inertia'
)
# Highlight the point where the curve starts to flatten

elbow_point = 5
elbow_inertia = df_elbow[df_elbow['k'] == elbow_point]['inertia'].values[0]

fig.add_annotation(
    x=elbow_point,
    y=elbow_inertia,
    text="Elbow Point",
    showarrow=True,
    arrowhead=2
)

# Show the plot
fig.show()









# Initialize the K-Means model using the best value for k



# Fit the K-Means model using the scaled data



# Predict the clusters to group the cryptocurrencies using the scaled data


# View the resulting array of cluster values.



# Create a copy of the DataFrame



# Add a new column to the DataFrame with the predicted clusters


# Display sample data



# Create a scatter plot using Pandas plot by setting 
# `x="price_change_percentage_24h"` and `y="price_change_percentage_7d"`.
# Use "rainbow" for the color to better visualize the data.






# Create a PCA model instance and set `n_components=3`.



# Use the PCA model with `fit_transform` on the original scaled DataFrame to reduce to three principal components.


# View the first five rows of the DataFrame. 



# Retrieve the explained variance to determine how much information  can be attributed to each principal component.






# Create a new DataFrame with the PCA data.
# Note: The code for this step is provided for you

# Creating a DataFrame with the PCA data


# Copy the crypto names from the original data


# Set the coinid column as index


# Display sample data






# Create a list with the number of k-values to try
# Use a range from 1 to 11


# Create an empty list to store the inertia values


# Create a for loop to compute the inertia with each possible value of k
# Inside the loop:
# 1. Create a KMeans model using the loop counter for the n_clusters
# 2. Fit the model to the data using PCA DataFrame.
# 3. Append the model.inertia_ to the inertia list


# Create a dictionary with the data to plot the Elbow curve


# Create a DataFrame with the data to plot the Elbow curve


# Display the DataFrame



# Plot a line chart with all the inertia values computed with 
# the different values of k to visually identify the optimal value for k.









# Initialize the K-Means model using the best value for k



# Fit the K-Means model using the PCA data



# Predict the clusters to group the cryptocurrencies using the PCA data


# Print the resulting array of cluster values.



# Create a copy of the DataFrame with the PCA data


# Add a new column to the DataFrame with the predicted clusters


# Display sample data



# Create a scatter plot using hvPlot by setting `x="PCA1"` and `y="PCA2"`. 






# Use the columns from the original scaled DataFrame as the index.







