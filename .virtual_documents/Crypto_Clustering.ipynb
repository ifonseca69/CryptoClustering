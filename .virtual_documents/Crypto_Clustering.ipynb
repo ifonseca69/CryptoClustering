# Import required libraries and dependencies
# Change the number depending on your specific warning...
import os
os.environ["OMP_NUM_THREADS"] = "1"
import pandas as pd
from sklearn.decomposition import PCA
from sklearn.preprocessing import StandardScaler
from sklearn.cluster import KMeans
import matplotlib.pyplot as plt
import seaborn as sns


# Load the data into a Pandas DataFrame and make the index the "coin_id" column.
market_data_df = pd.read_csv("Resources/crypto_market_data.csv", index_col="coin_id")

# Display sample data
market_data_df.head()


# Generate summary statistics
market_data_df.describe()





# Use the `StandardScaler()` module from scikit-learn to normalize the data from the CSV file

columns = ["price_change_percentage_24h", "price_change_percentage_7d",\
            "price_change_percentage_14d","price_change_percentage_30d",\
            "price_change_percentage_60d","price_change_percentage_200d",\
            "price_change_percentage_1y"]
scaled_data = StandardScaler().fit_transform(market_data_df[columns])


# Create a DataFrame with the scaled data

market_crypto_scaled_df = pd.DataFrame(scaled_data,columns=columns)

# Copy the crypto names from the original data

market_crypto_scaled_df['coin_id'] = market_data_df.index
# Set the coinid column as index

market_scaled_df = market_crypto_scaled_df.set_index('coin_id')

# Display sample data

market_scaled_df.head()





# Create a list with the number of k-values to try
# Use a range from 1 to 11
k_values = list(range(1, 11))


# Create a for loop to compute the inertia with each possible value of k
# Inside the loop:
# 1. Create a KMeans model using the loop counter for the n_clusters
# 2. Fit the model to the data using the scaled DataFrame
# 3. Append the model.inertia_ to the inertia list

def elbow_curve_comp(data_frame, k_values):
   # Create an empty list to store the inertia values
    inertia = [] 
    # Loop through each k value and calculate inertia
    for i in k_values:
        model = KMeans(n_clusters=i, n_init='auto', random_state=1)
        model.fit(data_frame)
        inertia.append(model.inertia_)
    # Create a dictionary with the data to plot the Elbow curve
    elbow_data = {
    "k": k_values,
    "inertia": inertia
}
    return elbow_data
    
# Create a DataFrame with the data to plot the Elbow curve
elbow_df = pd.DataFrame(elbow_curve_comp(market_scaled_df, k_values))
   
elbow_df


# Plot a line chart with all the inertia values computed with 
# the different values of k to visually identify the optimal value for k.
import plotly.express as px
import plotly.io as pio

# Create the Elbow curve plot using Plotly

fig = px.line(elbow_df, x='k', y='inertia', markers=True, title='Elbow Method For Optimal k')
fig.update_layout(
    xaxis_title='Number of clusters (k)',
    yaxis_title='Inertia'
)
# Highlight the point where the curve starts to flatten

elbow_point = 5
elbow_inertia = elbow_df[elbow_df['k'] == elbow_point]['inertia'].values[0]

fig.add_annotation(
    x=elbow_point,
    y=elbow_inertia,
    text="Elbow Point",
    showarrow=True,
    arrowhead=2
)

# Save the figure
pio.write_image(fig, 'Resources/Elbow_Method_For_Optimal_k.jpg')

# Show the plot

fig.show()



# Plot the elbow plot by using pandas
ax = elbow_df.plot.line(x='k', y='inertia', title='Elbow Method For Optimal k')
ax.set_xlabel('Number of clusters (k)')
ax.set_ylabel('Inertia')

# Highlight the elbow point
elbow_point = 5  # Example elbow point, adjust based on your data
elbow_inertia = elbow_df[elbow_df['k'] == elbow_point]['inertia'].values[0]

ax.annotate(
    f'Elbow Point (k={elbow_point}, inertia={elbow_inertia:.2f})',
    xy=(elbow_point, elbow_inertia),
    xytext=(elbow_point + 0.5, elbow_inertia + 50),
    arrowprops=dict(facecolor='black', shrink=0.05, width=0.5, headwidth=4),
    fontsize=12,
    color='red'
)
# Save the figure
plt.savefig('Resources/Elbow_Method_Optimal_K.jpg', format='jpg')

plt.show()








# Initialize the K-Means model using the best value for k
k_best_value =5
kmeans = KMeans(n_clusters= k_best_value, random_state=1)


# Fit the K-Means model using the scaled data
kmeans.fit(market_scaled_df)


# Predict the clusters to group the cryptocurrencies using the scaled data
predicted_clusters = kmeans.predict(market_scaled_df)

# View the resulting array of cluster values.
predicted_clusters


# Create a copy of the DataFrame
clustered_df = market_scaled_df.copy()


# Add a new column to the DataFrame with the predicted clusters

market_scaled_df['crypto_cluster'] = predicted_clusters

# Display sample data
market_scaled_df.head()


# Create a scatter plot using Pandas plot by setting 
# `x="price_change_percentage_24h"` and `y="price_change_percentage_7d"`.
# Use "rainbow" for the color to better visualize the data.
plt.figure(figsize=(10, 8))
scatter_plot = market_scaled_df.plot.scatter(
    x="price_change_percentage_24h",
    y="price_change_percentage_7d",
    c="crypto_cluster",
    colormap='rainbow',
    figsize=(10, 8),
    title='Cryptocurrency Clusters'
)
plt.xlabel('24h Price Change (%)')
plt.ylabel('7d Price Change (%)')
plt.grid(True)
# Save the figure
plt.savefig('Resources/Cryptocurrency_Clusters.jpg', format='jpg')
plt.show()





# Create a PCA model instance and set `n_components=3`.
pca = PCA(n_components=3)


# Use the PCA model with `fit_transform` on the original scaled DataFrame to reduce to three principal components.
pca_transformed_data = pca.fit_transform(market_scaled_df.drop(columns ="crypto_cluster"))

# View the first five rows of the DataFrame. 
pca_transformed_data[0:5]


# Retrieve the explained variance to determine how much information  can be attributed to each principal component.
explained_variance_ratio = pca.explained_variance_ratio_
explained_variance_ratio[0:3]


# Calculate the total explained variance
total_explained_variance = explained_variance_ratio.sum()
print(total_explained_variance)





# Create a new DataFrame with the PCA data.
# Note: The code for this step is provided for you

# Creating a DataFrame with the PCA data

pca_df = pd.DataFrame(pca_transformed_data, columns=['PCA1', 'PCA2', 'PCA3'])

# Copy the crypto names from the original data
pca_df['coin_id'] = market_scaled_df.index

# Set the coinid column as index

pca_df = pca_df.set_index('coin_id')

# Display sample data
pca_df.head(10)





# Create a list with the number of k-values to try
# Use a range from 1 to 11


# Create an empty list to store the inertia values


# Create a for loop to compute the inertia with each possible value of k
# Inside the loop:
# 1. Create a KMeans model using the loop counter for the n_clusters
# 2. Fit the model to the data using PCA DataFrame.
# 3. Append the model.inertia_ to the inertia list


# Create a dictionary with the data to plot the Elbow curve


# Create a DataFrame with the data to plot the Elbow curve " Note applied def function calculate_elbow_curve " 
elbow_df_pca = pd.DataFrame(elbow_curve_comp(pca_df,k_values))

# Display the DataFrame
elbow_df_pca


# Plot a line chart with all the inertia values computed with 
# the different values of k to visually identify the optimal value for k.
# Plot the elbow plot using pandas
ax = elbow_df_pca.plot.line(x='k', y='inertia', title='Elbow Method PCA Optimal k')
ax.set_xlabel('Number of clusters (k)')
ax.set_ylabel('Inertia')

# Highlight the elbow point
elbow_point = 4  # Example elbow point, adjust based on your data
elbow_inertia = elbow_df_pca[elbow_df_pca['k'] == elbow_point]['inertia'].values[0]

ax.annotate(
    f'Elbow Point (k={elbow_point}, inertia={elbow_inertia:.2f})',
    xy=(elbow_point, elbow_inertia),
    xytext=(elbow_point + 0.5, elbow_inertia + 50),
    arrowprops=dict(facecolor='black', shrink=0.05, width=0.5, headwidth=4),
    fontsize=12,
    color='red'
)
# Save the figure
plt.savefig('Resources/Elbow_PCA_Optimal_K.jpg', format='jpg')

plt.show()











# Initialize the K-Means model using the best value for k
kmeans_pca = KMeans(n_clusters= 4, random_state=1)


# Fit the K-Means model using the PCA data
kmeans_pca.fit(pca_df)


# Predict the clusters to group the cryptocurrencies using the PCA data
predicted_clusters_pca = kmeans_pca.predict(pca_df)

# Print the resulting array of cluster values.
predicted_clusters_pca


# Create a copy of the DataFrame with the PCA data
pca_copy_df = pca_df.copy()

# Add a new column to the DataFrame with the predicted clusters
pca_copy_df['crypto_cluster'] = predicted_clusters_pca

# Export the DataFrame to a CSV file in the Resources folder
pca_copy_df.to_csv('Resources/Cryptocurrency_Clusters_PCA.csv', index=True)

# Display sample data
pca_copy_df.head()



# Create a scatter plot using hvPlot by setting `x="PCA1"` and `y="PCA2"`. 
import hvplot.pandas  
import hvplot as hv

scatter_plot = pca_copy_df.hvplot.scatter(
    x='PCA1',
    y='PCA2',
    by='crypto_cluster',
    colormap='rainbow',
    title='Cryptocurrency Clusters- PCA Transformed Data',
    size=100,
    alpha=0.6,
   hover_cols=['crypto_name']
)
# Save the figure
hv.save(scatter_plot, 'Resources/Cryptocurrency_Clusters_PCA_Transformed_Data.html')

scatter_plot


# Create a scatter plot using hvPlot by setting `x="PCA2"` and `y="PCA3"`. 
import hvplot.pandas  
import hvplot as hv

scatter_plot = pca_copy_df.hvplot.scatter(
    x='PCA2',
    y='PCA3',
    by='crypto_cluster',
    colormap='rainbow',
    title='Cryptocurrency Clusters- PCA Transformed Data',
    size=100,
    alpha=0.6,
   hover_cols=['crypto_name']
)
# Save the figure
hv.save(scatter_plot, 'Resources/Cryptocurrency_Clusters_PCA2_PCA3.html')

scatter_plot





# Use the columns from the original scaled DataFrame as the index.

pca = PCA(n_components=3)
pca.fit(market_scaled_df)

pca_components_weight = pd.DataFrame(pca.components_.T, columns=['PCA1','PCA2','PCA3'], index = market_scaled_df.columns)
pca_components_weight.to_csv('Resources/pca_components_weight.csv', index=True)
pca_components_weight = pca_components_weight
pca_components_weight


# Assuming pca_components_weight is your DataFrame
# Reshape the DataFrame to long format
df_long = pd.melt(pca_components_weight.reset_index(), id_vars='index', value_vars=['PCA1', 'PCA2', 'PCA3'], 
                  var_name='PCA', value_name='Value')

# Plot the bar chart
plt.figure(figsize=(10, 8))
sns.barplot(x='index', y='Value', hue='PCA', data=df_long)

# Adding labels and title
plt.xlabel('Index')
plt.ylabel('PCA Value')
plt.title('PCA Components Weight Bar Chart')
plt.xticks(rotation=30)
# Save the plot as a figure
plt.savefig('Resources/pca_components_weight_bar_chart.png')

plt.show()






